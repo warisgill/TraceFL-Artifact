{
 "cells": [
  {
   "cell_type": "code",
   "execution_count": null,
   "metadata": {
    "vscode": {
     "languageId": "plaintext"
    }
   },
   "outputs": [],
   "source": [
    "!conda create --name tracefl python=3.10 -y\n",
    "!conda activate tracefl\n",
    "!pip install poetry\n",
    "!poetry install\n",
    "!mkdir logs\n"
   ]
  }
 ],
 "metadata": {
  "language_info": {
   "name": "python"
  }
 },
 "nbformat": 4,
 "nbformat_minor": 2
}
