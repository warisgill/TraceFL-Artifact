{
 "cells": [
  {
   "cell_type": "code",
   "execution_count": null,
   "metadata": {
    "vscode": {
     "languageId": "plaintext"
    }
   },
   "outputs": [],
   "source": [
    "%%bash\n",
    "\n",
    "git clone https://github.com/warisgill/TraceFL-Artifact.git\n",
    "\n",
    "pip install virtualenv\n",
    "\n",
    "cd TraceFL-Artifact/\n",
    "mkdir logs\n",
    "virtualenv my_virtual_env\n",
    "source my_virtual_env/bin/activate \n",
    "my_virtual_env/bin/pip install poetry\n",
    "my_virtual_env/bin/poetry install\n",
    "\n",
    "\n",
    "\n",
    "# python=my_virtual_env/bin/python\n",
    "\n",
    "key_start='image_classification_exp'\n",
    "num_clients=10\n",
    "clients_per_round=10\n",
    "dirichlet_alpha=\"0.3\"\n",
    "client_gpu=1\n",
    "device=cuda # cpu, cuda, mps  # mps is only for M chip macs \n",
    "\n",
    "\n",
    "echo \"      ****************** Image Classification Experiments ******************\"\n",
    "img_models=\"resnet18\"\n",
    "img_datasets=\"mnist\"\n",
    "num_rounds=10\n",
    "my_virtual_env/bin/python -m tracefl.main --multirun device=$device client_gpu=$client_gpu  exp_key=$key_start model.name=$img_models dataset.name=$img_datasets num_clients=$num_clients num_rounds=$num_rounds clients_per_round=$clients_per_round dirichlet_alpha=$dirichlet_alpha | tee -a logs/exp_$key_start.log\n",
    "\n",
    "\n"
   ]
  }
 ],
 "metadata": {
  "language_info": {
   "name": "python"
  }
 },
 "nbformat": 4,
 "nbformat_minor": 2
}
